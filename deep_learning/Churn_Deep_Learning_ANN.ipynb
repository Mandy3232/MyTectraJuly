{
  "nbformat": 4,
  "nbformat_minor": 0,
  "metadata": {
    "colab": {
      "name": "Churn - Deep Learning - ANN.ipynb",
      "version": "0.3.2",
      "provenance": []
    },
    "kernelspec": {
      "name": "python3",
      "display_name": "Python 3"
    }
  },
  "cells": [
    {
      "cell_type": "code",
      "metadata": {
        "id": "6jxaHr95wD2v",
        "colab_type": "code",
        "colab": {}
      },
      "source": [
        "import numpy as np\n",
        "import matplotlib.pyplot as plt\n",
        "import pandas as pd"
      ],
      "execution_count": 0,
      "outputs": []
    },
    {
      "cell_type": "code",
      "metadata": {
        "id": "GxFA2MtDwPAY",
        "colab_type": "code",
        "colab": {}
      },
      "source": [
        "# Importing the dataset\n",
        "dataset = pd.read_csv('Churn_Modelling.csv')\n",
        "X = dataset.iloc[:, 3:13].values\n",
        "y = dataset.iloc[:, 13].values"
      ],
      "execution_count": 0,
      "outputs": []
    },
    {
      "cell_type": "code",
      "metadata": {
        "id": "eXSdrMKvwR1u",
        "colab_type": "code",
        "colab": {
          "base_uri": "https://localhost:8080/",
          "height": 138
        },
        "outputId": "d6fc191d-fdbb-466e-c915-aa9af61fcf2e"
      },
      "source": [
        "# Encoding categorical data\n",
        "from sklearn.preprocessing import LabelEncoder, OneHotEncoder\n",
        "labelencoder_X_1 = LabelEncoder()\n",
        "X[:, 1] = labelencoder_X_1.fit_transform(X[:, 1])\n",
        "labelencoder_X_2 = LabelEncoder()\n",
        "X[:, 2] = labelencoder_X_2.fit_transform(X[:, 2])\n",
        "onehotencoder = OneHotEncoder(categorical_features = [1])\n",
        "X = onehotencoder.fit_transform(X).toarray()\n",
        "X = X[:, 1:]"
      ],
      "execution_count": 6,
      "outputs": [
        {
          "output_type": "stream",
          "text": [
            "/usr/local/lib/python3.6/dist-packages/sklearn/preprocessing/_encoders.py:415: FutureWarning: The handling of integer data will change in version 0.22. Currently, the categories are determined based on the range [0, max(values)], while in the future they will be determined based on the unique values.\n",
            "If you want the future behaviour and silence this warning, you can specify \"categories='auto'\".\n",
            "In case you used a LabelEncoder before this OneHotEncoder to convert the categories to integers, then you can now use the OneHotEncoder directly.\n",
            "  warnings.warn(msg, FutureWarning)\n",
            "/usr/local/lib/python3.6/dist-packages/sklearn/preprocessing/_encoders.py:451: DeprecationWarning: The 'categorical_features' keyword is deprecated in version 0.20 and will be removed in 0.22. You can use the ColumnTransformer instead.\n",
            "  \"use the ColumnTransformer instead.\", DeprecationWarning)\n"
          ],
          "name": "stderr"
        }
      ]
    },
    {
      "cell_type": "code",
      "metadata": {
        "id": "1H6fda3vwg50",
        "colab_type": "code",
        "colab": {}
      },
      "source": [
        "# Splitting the dataset into the Training set and Test set\n",
        "from sklearn.model_selection import train_test_split\n",
        "X_train, X_test, y_train, y_test = train_test_split(X, y, test_size = 0.2, random_state = 0)"
      ],
      "execution_count": 0,
      "outputs": []
    },
    {
      "cell_type": "code",
      "metadata": {
        "id": "Z-oWOs2nwjgf",
        "colab_type": "code",
        "colab": {}
      },
      "source": [
        "# Feature Scaling\n",
        "from sklearn.preprocessing import StandardScaler\n",
        "sc = StandardScaler()\n",
        "X_train = sc.fit_transform(X_train)\n",
        "X_test = sc.transform(X_test)"
      ],
      "execution_count": 0,
      "outputs": []
    },
    {
      "cell_type": "code",
      "metadata": {
        "id": "auPiC8vMwmkk",
        "colab_type": "code",
        "colab": {}
      },
      "source": [
        "# Part 2 - Now let's make the ANN!\n",
        "\n",
        "# Importing the Keras libraries and packages\n",
        "import keras\n",
        "from keras.models import Sequential\n",
        "from keras.layers import Dense"
      ],
      "execution_count": 0,
      "outputs": []
    },
    {
      "cell_type": "code",
      "metadata": {
        "id": "GJIG9kQ-wpWB",
        "colab_type": "code",
        "colab": {
          "base_uri": "https://localhost:8080/",
          "height": 70
        },
        "outputId": "689d63a0-72ae-4108-d183-c9bb40996b89"
      },
      "source": [
        "# Initialising the ANN\n",
        "classifier = Sequential()"
      ],
      "execution_count": 10,
      "outputs": [
        {
          "output_type": "stream",
          "text": [
            "WARNING:tensorflow:From /usr/local/lib/python3.6/dist-packages/keras/backend/tensorflow_backend.py:66: The name tf.get_default_graph is deprecated. Please use tf.compat.v1.get_default_graph instead.\n",
            "\n"
          ],
          "name": "stdout"
        }
      ]
    },
    {
      "cell_type": "code",
      "metadata": {
        "id": "iemHqX2dwr7C",
        "colab_type": "code",
        "colab": {
          "base_uri": "https://localhost:8080/",
          "height": 138
        },
        "outputId": "8bf292a0-a0ca-431f-b47a-6d77cbfddd5c"
      },
      "source": [
        "# Adding the input layer and the first hidden layer\n",
        "classifier.add(Dense(output_dim = 6, init = 'uniform', activation = 'relu', input_dim = 11))"
      ],
      "execution_count": 11,
      "outputs": [
        {
          "output_type": "stream",
          "text": [
            "WARNING:tensorflow:From /usr/local/lib/python3.6/dist-packages/keras/backend/tensorflow_backend.py:541: The name tf.placeholder is deprecated. Please use tf.compat.v1.placeholder instead.\n",
            "\n",
            "WARNING:tensorflow:From /usr/local/lib/python3.6/dist-packages/keras/backend/tensorflow_backend.py:4432: The name tf.random_uniform is deprecated. Please use tf.random.uniform instead.\n",
            "\n"
          ],
          "name": "stdout"
        },
        {
          "output_type": "stream",
          "text": [
            "/usr/local/lib/python3.6/dist-packages/ipykernel_launcher.py:1: UserWarning: Update your `Dense` call to the Keras 2 API: `Dense(activation=\"relu\", input_dim=11, units=6, kernel_initializer=\"uniform\")`\n",
            "  \"\"\"Entry point for launching an IPython kernel.\n"
          ],
          "name": "stderr"
        }
      ]
    },
    {
      "cell_type": "code",
      "metadata": {
        "id": "5OtSwyOfwui5",
        "colab_type": "code",
        "colab": {
          "base_uri": "https://localhost:8080/",
          "height": 70
        },
        "outputId": "19cdaecc-b47f-4e2b-ed7c-61ffe1554318"
      },
      "source": [
        "# Adding the second hidden layer\n",
        "classifier.add(Dense(output_dim = 6, init = 'uniform', activation = 'relu'))"
      ],
      "execution_count": 12,
      "outputs": [
        {
          "output_type": "stream",
          "text": [
            "/usr/local/lib/python3.6/dist-packages/ipykernel_launcher.py:1: UserWarning: Update your `Dense` call to the Keras 2 API: `Dense(activation=\"relu\", units=6, kernel_initializer=\"uniform\")`\n",
            "  \"\"\"Entry point for launching an IPython kernel.\n"
          ],
          "name": "stderr"
        }
      ]
    },
    {
      "cell_type": "code",
      "metadata": {
        "id": "68a-v1llwwsy",
        "colab_type": "code",
        "colab": {
          "base_uri": "https://localhost:8080/",
          "height": 70
        },
        "outputId": "4aa8aff0-afda-408a-864d-9537dc28abdf"
      },
      "source": [
        "# Adding the output layer\n",
        "classifier.add(Dense(output_dim = 1, init = 'uniform', activation = 'sigmoid'))"
      ],
      "execution_count": 13,
      "outputs": [
        {
          "output_type": "stream",
          "text": [
            "/usr/local/lib/python3.6/dist-packages/ipykernel_launcher.py:1: UserWarning: Update your `Dense` call to the Keras 2 API: `Dense(activation=\"sigmoid\", units=1, kernel_initializer=\"uniform\")`\n",
            "  \"\"\"Entry point for launching an IPython kernel.\n"
          ],
          "name": "stderr"
        }
      ]
    },
    {
      "cell_type": "code",
      "metadata": {
        "id": "F4wb_G0Qwybd",
        "colab_type": "code",
        "colab": {
          "base_uri": "https://localhost:8080/",
          "height": 154
        },
        "outputId": "a9250217-7a87-46bf-e635-72ae5fd82544"
      },
      "source": [
        "# Compiling the ANN\n",
        "classifier.compile(optimizer = 'adam', loss = 'binary_crossentropy', metrics = ['accuracy'])"
      ],
      "execution_count": 14,
      "outputs": [
        {
          "output_type": "stream",
          "text": [
            "WARNING:tensorflow:From /usr/local/lib/python3.6/dist-packages/keras/optimizers.py:793: The name tf.train.Optimizer is deprecated. Please use tf.compat.v1.train.Optimizer instead.\n",
            "\n",
            "WARNING:tensorflow:From /usr/local/lib/python3.6/dist-packages/keras/backend/tensorflow_backend.py:3657: The name tf.log is deprecated. Please use tf.math.log instead.\n",
            "\n",
            "WARNING:tensorflow:From /usr/local/lib/python3.6/dist-packages/tensorflow/python/ops/nn_impl.py:180: add_dispatch_support.<locals>.wrapper (from tensorflow.python.ops.array_ops) is deprecated and will be removed in a future version.\n",
            "Instructions for updating:\n",
            "Use tf.where in 2.0, which has the same broadcast rule as np.where\n"
          ],
          "name": "stdout"
        }
      ]
    },
    {
      "cell_type": "code",
      "metadata": {
        "id": "1xdmSV77w0Wk",
        "colab_type": "code",
        "colab": {
          "base_uri": "https://localhost:8080/",
          "height": 1000
        },
        "outputId": "56a9aa1a-10d9-4ab5-b18e-d2eaa8f96720"
      },
      "source": [
        "# Fitting the ANN to the Training set\n",
        "classifier.fit(X_train, y_train, batch_size = 10, nb_epoch = 100)"
      ],
      "execution_count": 15,
      "outputs": [
        {
          "output_type": "stream",
          "text": [
            "WARNING:tensorflow:From /usr/local/lib/python3.6/dist-packages/keras/backend/tensorflow_backend.py:1033: The name tf.assign_add is deprecated. Please use tf.compat.v1.assign_add instead.\n",
            "\n"
          ],
          "name": "stdout"
        },
        {
          "output_type": "stream",
          "text": [
            "/usr/local/lib/python3.6/dist-packages/ipykernel_launcher.py:1: UserWarning: The `nb_epoch` argument in `fit` has been renamed `epochs`.\n",
            "  \"\"\"Entry point for launching an IPython kernel.\n"
          ],
          "name": "stderr"
        },
        {
          "output_type": "stream",
          "text": [
            "Epoch 1/100\n",
            "8000/8000 [==============================] - 1s 183us/step - loss: 0.4843 - acc: 0.7960\n",
            "Epoch 2/100\n",
            "8000/8000 [==============================] - 1s 105us/step - loss: 0.4264 - acc: 0.7960\n",
            "Epoch 3/100\n",
            "8000/8000 [==============================] - 1s 104us/step - loss: 0.4212 - acc: 0.8046\n",
            "Epoch 4/100\n",
            "8000/8000 [==============================] - 1s 104us/step - loss: 0.4182 - acc: 0.8234\n",
            "Epoch 5/100\n",
            "8000/8000 [==============================] - 1s 101us/step - loss: 0.4159 - acc: 0.8286\n",
            "Epoch 6/100\n",
            "8000/8000 [==============================] - 1s 103us/step - loss: 0.4142 - acc: 0.8297\n",
            "Epoch 7/100\n",
            "8000/8000 [==============================] - 1s 104us/step - loss: 0.4124 - acc: 0.8325\n",
            "Epoch 8/100\n",
            "8000/8000 [==============================] - 1s 105us/step - loss: 0.4110 - acc: 0.8325\n",
            "Epoch 9/100\n",
            "8000/8000 [==============================] - 1s 104us/step - loss: 0.4096 - acc: 0.8331\n",
            "Epoch 10/100\n",
            "8000/8000 [==============================] - 1s 104us/step - loss: 0.4086 - acc: 0.8326\n",
            "Epoch 11/100\n",
            "8000/8000 [==============================] - 1s 106us/step - loss: 0.4081 - acc: 0.8341\n",
            "Epoch 12/100\n",
            "8000/8000 [==============================] - 1s 104us/step - loss: 0.4066 - acc: 0.8349\n",
            "Epoch 13/100\n",
            "8000/8000 [==============================] - 1s 104us/step - loss: 0.4065 - acc: 0.8336\n",
            "Epoch 14/100\n",
            "8000/8000 [==============================] - 1s 103us/step - loss: 0.4062 - acc: 0.8347\n",
            "Epoch 15/100\n",
            "8000/8000 [==============================] - 1s 103us/step - loss: 0.4051 - acc: 0.8347\n",
            "Epoch 16/100\n",
            "8000/8000 [==============================] - 1s 103us/step - loss: 0.4049 - acc: 0.8346\n",
            "Epoch 17/100\n",
            "8000/8000 [==============================] - 1s 106us/step - loss: 0.4047 - acc: 0.8344\n",
            "Epoch 18/100\n",
            "8000/8000 [==============================] - 1s 104us/step - loss: 0.4040 - acc: 0.8342\n",
            "Epoch 19/100\n",
            "8000/8000 [==============================] - 1s 104us/step - loss: 0.4040 - acc: 0.8342\n",
            "Epoch 20/100\n",
            "8000/8000 [==============================] - 1s 103us/step - loss: 0.4042 - acc: 0.8350\n",
            "Epoch 21/100\n",
            "8000/8000 [==============================] - 1s 104us/step - loss: 0.4038 - acc: 0.8335\n",
            "Epoch 22/100\n",
            "8000/8000 [==============================] - 1s 106us/step - loss: 0.4030 - acc: 0.8351\n",
            "Epoch 23/100\n",
            "8000/8000 [==============================] - 1s 103us/step - loss: 0.4028 - acc: 0.8342\n",
            "Epoch 24/100\n",
            "8000/8000 [==============================] - 1s 102us/step - loss: 0.4030 - acc: 0.8357\n",
            "Epoch 25/100\n",
            "8000/8000 [==============================] - 1s 104us/step - loss: 0.4023 - acc: 0.8336\n",
            "Epoch 26/100\n",
            "8000/8000 [==============================] - 1s 105us/step - loss: 0.4024 - acc: 0.8350\n",
            "Epoch 27/100\n",
            "8000/8000 [==============================] - 1s 101us/step - loss: 0.4025 - acc: 0.8347\n",
            "Epoch 28/100\n",
            "8000/8000 [==============================] - 1s 104us/step - loss: 0.4026 - acc: 0.8355\n",
            "Epoch 29/100\n",
            "8000/8000 [==============================] - 1s 105us/step - loss: 0.4021 - acc: 0.8339\n",
            "Epoch 30/100\n",
            "8000/8000 [==============================] - 1s 103us/step - loss: 0.4020 - acc: 0.8345\n",
            "Epoch 31/100\n",
            "8000/8000 [==============================] - 1s 103us/step - loss: 0.4019 - acc: 0.8350\n",
            "Epoch 32/100\n",
            "8000/8000 [==============================] - 1s 104us/step - loss: 0.4019 - acc: 0.8346\n",
            "Epoch 33/100\n",
            "8000/8000 [==============================] - 1s 102us/step - loss: 0.4014 - acc: 0.8341\n",
            "Epoch 34/100\n",
            "8000/8000 [==============================] - 1s 106us/step - loss: 0.4007 - acc: 0.8366\n",
            "Epoch 35/100\n",
            "8000/8000 [==============================] - 1s 103us/step - loss: 0.4003 - acc: 0.8359\n",
            "Epoch 36/100\n",
            "8000/8000 [==============================] - 1s 104us/step - loss: 0.4000 - acc: 0.8360\n",
            "Epoch 37/100\n",
            "8000/8000 [==============================] - 1s 105us/step - loss: 0.3988 - acc: 0.8350\n",
            "Epoch 38/100\n",
            "8000/8000 [==============================] - 1s 106us/step - loss: 0.3993 - acc: 0.8359\n",
            "Epoch 39/100\n",
            "8000/8000 [==============================] - 1s 105us/step - loss: 0.3989 - acc: 0.8351\n",
            "Epoch 40/100\n",
            "8000/8000 [==============================] - 1s 104us/step - loss: 0.3983 - acc: 0.8341\n",
            "Epoch 41/100\n",
            "8000/8000 [==============================] - 1s 104us/step - loss: 0.3979 - acc: 0.8352\n",
            "Epoch 42/100\n",
            "8000/8000 [==============================] - 1s 106us/step - loss: 0.3978 - acc: 0.8350\n",
            "Epoch 43/100\n",
            "8000/8000 [==============================] - 1s 104us/step - loss: 0.3978 - acc: 0.8352\n",
            "Epoch 44/100\n",
            "8000/8000 [==============================] - 1s 106us/step - loss: 0.3972 - acc: 0.8365\n",
            "Epoch 45/100\n",
            "8000/8000 [==============================] - 1s 104us/step - loss: 0.3970 - acc: 0.8362\n",
            "Epoch 46/100\n",
            "8000/8000 [==============================] - 1s 105us/step - loss: 0.3970 - acc: 0.8367\n",
            "Epoch 47/100\n",
            "8000/8000 [==============================] - 1s 104us/step - loss: 0.3966 - acc: 0.8377\n",
            "Epoch 48/100\n",
            "8000/8000 [==============================] - 1s 107us/step - loss: 0.3966 - acc: 0.8362\n",
            "Epoch 49/100\n",
            "8000/8000 [==============================] - 1s 107us/step - loss: 0.3964 - acc: 0.8374\n",
            "Epoch 50/100\n",
            "8000/8000 [==============================] - 1s 106us/step - loss: 0.3960 - acc: 0.8361\n",
            "Epoch 51/100\n",
            "8000/8000 [==============================] - 1s 106us/step - loss: 0.3961 - acc: 0.8370\n",
            "Epoch 52/100\n",
            "8000/8000 [==============================] - 1s 105us/step - loss: 0.3957 - acc: 0.8350\n",
            "Epoch 53/100\n",
            "8000/8000 [==============================] - 1s 103us/step - loss: 0.3959 - acc: 0.8380\n",
            "Epoch 54/100\n",
            "8000/8000 [==============================] - 1s 107us/step - loss: 0.3955 - acc: 0.8365\n",
            "Epoch 55/100\n",
            "8000/8000 [==============================] - 1s 104us/step - loss: 0.3953 - acc: 0.8359\n",
            "Epoch 56/100\n",
            "8000/8000 [==============================] - 1s 102us/step - loss: 0.3951 - acc: 0.8369\n",
            "Epoch 57/100\n",
            "8000/8000 [==============================] - 1s 103us/step - loss: 0.3953 - acc: 0.8364\n",
            "Epoch 58/100\n",
            "8000/8000 [==============================] - 1s 103us/step - loss: 0.3950 - acc: 0.8377\n",
            "Epoch 59/100\n",
            "8000/8000 [==============================] - 1s 105us/step - loss: 0.3950 - acc: 0.8369\n",
            "Epoch 60/100\n",
            "8000/8000 [==============================] - 1s 104us/step - loss: 0.3943 - acc: 0.8365\n",
            "Epoch 61/100\n",
            "8000/8000 [==============================] - 1s 105us/step - loss: 0.3949 - acc: 0.8360\n",
            "Epoch 62/100\n",
            "8000/8000 [==============================] - 1s 103us/step - loss: 0.3951 - acc: 0.8366\n",
            "Epoch 63/100\n",
            "8000/8000 [==============================] - 1s 105us/step - loss: 0.3948 - acc: 0.8369\n",
            "Epoch 64/100\n",
            "8000/8000 [==============================] - 1s 103us/step - loss: 0.3951 - acc: 0.8361\n",
            "Epoch 65/100\n",
            "8000/8000 [==============================] - 1s 105us/step - loss: 0.3943 - acc: 0.8369\n",
            "Epoch 66/100\n",
            "8000/8000 [==============================] - 1s 103us/step - loss: 0.3944 - acc: 0.8367\n",
            "Epoch 67/100\n",
            "8000/8000 [==============================] - 1s 106us/step - loss: 0.3942 - acc: 0.8367\n",
            "Epoch 68/100\n",
            "8000/8000 [==============================] - 1s 104us/step - loss: 0.3941 - acc: 0.8371\n",
            "Epoch 69/100\n",
            "8000/8000 [==============================] - 1s 104us/step - loss: 0.3943 - acc: 0.8386\n",
            "Epoch 70/100\n",
            "8000/8000 [==============================] - 1s 105us/step - loss: 0.3946 - acc: 0.8367\n",
            "Epoch 71/100\n",
            "8000/8000 [==============================] - 1s 105us/step - loss: 0.3948 - acc: 0.8365\n",
            "Epoch 72/100\n",
            "8000/8000 [==============================] - 1s 107us/step - loss: 0.3943 - acc: 0.8359\n",
            "Epoch 73/100\n",
            "8000/8000 [==============================] - 1s 106us/step - loss: 0.3945 - acc: 0.8374\n",
            "Epoch 74/100\n",
            "8000/8000 [==============================] - 1s 105us/step - loss: 0.3940 - acc: 0.8370\n",
            "Epoch 75/100\n",
            "8000/8000 [==============================] - 1s 105us/step - loss: 0.3945 - acc: 0.8375\n",
            "Epoch 76/100\n",
            "8000/8000 [==============================] - 1s 104us/step - loss: 0.3937 - acc: 0.8369\n",
            "Epoch 77/100\n",
            "8000/8000 [==============================] - 1s 105us/step - loss: 0.3941 - acc: 0.8366\n",
            "Epoch 78/100\n",
            "8000/8000 [==============================] - 1s 101us/step - loss: 0.3937 - acc: 0.8362\n",
            "Epoch 79/100\n",
            "8000/8000 [==============================] - 1s 107us/step - loss: 0.3939 - acc: 0.8371\n",
            "Epoch 80/100\n",
            "8000/8000 [==============================] - 1s 105us/step - loss: 0.3942 - acc: 0.8384\n",
            "Epoch 81/100\n",
            "8000/8000 [==============================] - 1s 104us/step - loss: 0.3939 - acc: 0.8381\n",
            "Epoch 82/100\n",
            "8000/8000 [==============================] - 1s 103us/step - loss: 0.3937 - acc: 0.8374\n",
            "Epoch 83/100\n",
            "8000/8000 [==============================] - 1s 104us/step - loss: 0.3939 - acc: 0.8377\n",
            "Epoch 84/100\n",
            "8000/8000 [==============================] - 1s 105us/step - loss: 0.3941 - acc: 0.8375\n",
            "Epoch 85/100\n",
            "8000/8000 [==============================] - 1s 103us/step - loss: 0.3938 - acc: 0.8371\n",
            "Epoch 86/100\n",
            "8000/8000 [==============================] - 1s 104us/step - loss: 0.3942 - acc: 0.8377\n",
            "Epoch 87/100\n",
            "8000/8000 [==============================] - 1s 103us/step - loss: 0.3938 - acc: 0.8389\n",
            "Epoch 88/100\n",
            "8000/8000 [==============================] - 1s 104us/step - loss: 0.3933 - acc: 0.8359\n",
            "Epoch 89/100\n",
            "8000/8000 [==============================] - 1s 104us/step - loss: 0.3935 - acc: 0.8367\n",
            "Epoch 90/100\n",
            "8000/8000 [==============================] - 1s 104us/step - loss: 0.3938 - acc: 0.8356\n",
            "Epoch 91/100\n",
            "8000/8000 [==============================] - 1s 105us/step - loss: 0.3936 - acc: 0.8379\n",
            "Epoch 92/100\n",
            "8000/8000 [==============================] - 1s 105us/step - loss: 0.3936 - acc: 0.8366\n",
            "Epoch 93/100\n",
            "8000/8000 [==============================] - 1s 105us/step - loss: 0.3935 - acc: 0.8359\n",
            "Epoch 94/100\n",
            "8000/8000 [==============================] - 1s 104us/step - loss: 0.3936 - acc: 0.8364\n",
            "Epoch 95/100\n",
            "8000/8000 [==============================] - 1s 104us/step - loss: 0.3939 - acc: 0.8387\n",
            "Epoch 96/100\n",
            "8000/8000 [==============================] - 1s 103us/step - loss: 0.3937 - acc: 0.8380\n",
            "Epoch 97/100\n",
            "8000/8000 [==============================] - 1s 104us/step - loss: 0.3933 - acc: 0.8377\n",
            "Epoch 98/100\n",
            "8000/8000 [==============================] - 1s 105us/step - loss: 0.3932 - acc: 0.8377\n",
            "Epoch 99/100\n",
            "8000/8000 [==============================] - 1s 104us/step - loss: 0.3931 - acc: 0.8374\n",
            "Epoch 100/100\n",
            "8000/8000 [==============================] - 1s 106us/step - loss: 0.3936 - acc: 0.8379\n"
          ],
          "name": "stdout"
        },
        {
          "output_type": "execute_result",
          "data": {
            "text/plain": [
              "<keras.callbacks.History at 0x7ff52cf7eb38>"
            ]
          },
          "metadata": {
            "tags": []
          },
          "execution_count": 15
        }
      ]
    },
    {
      "cell_type": "code",
      "metadata": {
        "id": "KDJekt38w2Ns",
        "colab_type": "code",
        "colab": {}
      },
      "source": [
        "# Part 3 - Making the predictions and evaluating the model\n",
        "\n",
        "# Predicting the Test set results\n",
        "y_pred = classifier.predict(X_test)\n",
        "y_pred = (y_pred > 0.5)"
      ],
      "execution_count": 0,
      "outputs": []
    },
    {
      "cell_type": "code",
      "metadata": {
        "id": "ms0CtX9lw4O8",
        "colab_type": "code",
        "colab": {}
      },
      "source": [
        "# Making the Confusion Matrix\n",
        "from sklearn.metrics import confusion_matrix\n",
        "cm = confusion_matrix(y_test, y_pred)"
      ],
      "execution_count": 0,
      "outputs": []
    },
    {
      "cell_type": "code",
      "metadata": {
        "id": "X9poPSSEyReX",
        "colab_type": "code",
        "colab": {
          "base_uri": "https://localhost:8080/",
          "height": 51
        },
        "outputId": "319d4045-f4ad-480c-88d6-f787011425e2"
      },
      "source": [
        "cm"
      ],
      "execution_count": 18,
      "outputs": [
        {
          "output_type": "execute_result",
          "data": {
            "text/plain": [
              "array([[1544,   51],\n",
              "       [ 255,  150]])"
            ]
          },
          "metadata": {
            "tags": []
          },
          "execution_count": 18
        }
      ]
    },
    {
      "cell_type": "code",
      "metadata": {
        "id": "PunE7MuCySEs",
        "colab_type": "code",
        "colab": {}
      },
      "source": [
        ""
      ],
      "execution_count": 0,
      "outputs": []
    }
  ]
}